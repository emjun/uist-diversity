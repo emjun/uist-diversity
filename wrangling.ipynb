{
 "cells": [
  {
   "cell_type": "markdown",
   "metadata": {},
   "source": [
    "# Wrangling author data\n",
    "## About the data\n",
    "- 2015 - 2021: Separate datasets for proceedings (full papers) and adjunct proceedings (demos, posters, student innovation contest submissions)"
   ]
  },
  {
   "cell_type": "code",
   "execution_count": 1,
   "metadata": {},
   "outputs": [],
   "source": [
    "import pandas as pd\n",
    "import os"
   ]
  },
  {
   "cell_type": "code",
   "execution_count": 6,
   "metadata": {},
   "outputs": [],
   "source": [
    "# Function for outputting summary stats\n",
    "\n",
    "def summarize(df: pd.DataFrame, year: int):\n",
    "    print(f\"Summary for {year}:\\n\")\n",
    "    \n",
    "    # Skip for 2019 - 2021\n",
    "    if year < 2019:\n",
    "        papers = df['Paper Title']\n",
    "        num_unique_papers = len(pd.unique(papers))\n",
    "        print(f\"Number of unique papers: {num_unique_papers}\\n\")\n",
    "    authors = df['First Name'].astype(str) + df['Middle Initial'].fillna('').astype(str) + df['Last Name'].astype(str)\n",
    "    num_unique_authors = len(pd.unique(authors))\n",
    "    print(f\"Number of authors: {len(authors)}\\n\")\n",
    "    print(f\"Number of unique authors: {num_unique_authors}\\n\")\n",
    "    print(\"-------\")"
   ]
  },
  {
   "cell_type": "code",
   "execution_count": 7,
   "metadata": {},
   "outputs": [
    {
     "name": "stdout",
     "output_type": "stream",
     "text": [
      "Summary for 2015:\n",
      "\n",
      "Number of unique papers: 70\n",
      "\n",
      "Number of authors: 286\n",
      "\n",
      "Number of unique authors: 265\n",
      "\n",
      "-------\n",
      "Summary for 2016:\n",
      "\n",
      "Number of unique papers: 79\n",
      "\n",
      "Number of authors: 413\n",
      "\n",
      "Number of unique authors: 374\n",
      "\n",
      "-------\n",
      "Summary for 2017:\n",
      "\n",
      "Number of unique papers: 74\n",
      "\n",
      "Number of authors: 74\n",
      "\n",
      "Number of unique authors: 69\n",
      "\n",
      "-------\n",
      "Summary for 2018:\n",
      "\n",
      "Number of unique papers: 82\n",
      "\n",
      "Number of authors: 359\n",
      "\n",
      "Number of unique authors: 341\n",
      "\n",
      "-------\n",
      "Summary for 2019:\n",
      "\n",
      "Number of authors: 442\n",
      "\n",
      "Number of unique authors: 389\n",
      "\n",
      "-------\n",
      "Summary for 2020:\n",
      "\n",
      "Number of authors: 472\n",
      "\n",
      "Number of unique authors: 416\n",
      "\n",
      "-------\n",
      "Summary for 2021:\n",
      "\n",
      "Number of authors: 472\n",
      "\n",
      "Number of unique authors: 420\n",
      "\n",
      "-------\n"
     ]
    }
   ],
   "source": [
    "# Load in the data for each year\n",
    "proc_data_repo = \"./data/raw_author_data/\"\n",
    "file_names = {\n",
    "    2015: \"uist2015_proceedings.csv\", \n",
    "    2016: \"uist2016_proceedings.csv\", \n",
    "    2017: \"uist2017_proceedings.csv\", \n",
    "    2018: \"uist2018_proceedings.csv\", \n",
    "    2019: \"uist2019_proceedings.csv\", \n",
    "    2020: \"uist2020_proceedings.csv\", \n",
    "    2021: \"uist2021_proceedings.csv\"\n",
    "}\n",
    "\n",
    "for year, fn in file_names.items(): \n",
    "    fn_path = os.path.join(proc_data_repo, fn)\n",
    "    df = pd.read_csv(fn_path)\n",
    "\n",
    "    # Print summary stats for each year\n",
    "    summarize(df, year)"
   ]
  },
  {
   "cell_type": "code",
   "execution_count": null,
   "metadata": {},
   "outputs": [],
   "source": [
    "# For each year, create a new dataframe with columns: first name, middle, last name, email, year\n",
    "# Ensure that first + middle + last is a unique identifier --> print the names that are de-duplicated\n",
    "proc_2015 = proc_2015[]\n",
    "\n",
    "# Iteratively merge each year\n",
    "result = pd.merge(left, right, how=\"left\", on=[\"key1\", \"key2\"])"
   ]
  },
  {
   "cell_type": "code",
   "execution_count": null,
   "metadata": {},
   "outputs": [],
   "source": [
    "\n",
    "# Combine all the years into one dataframe, de-duplicate authors (first + middle + last)\n",
    "df = None # all the years\n",
    "# Keep the latest year email\n",
    "df.drop_duplicates(subset=['brand', 'style'], keep='last')\n"
   ]
  },
  {
   "cell_type": "code",
   "execution_count": null,
   "metadata": {},
   "outputs": [],
   "source": [
    "# Summary statistics for all years combined\n",
    "# Total number of papers\n",
    "# Unique set & number of authors\n",
    "# Unique set & number of institutions\n",
    "# Number of times an author has published 2015 - 2021\n",
    "# Numebr of times an instutition has published 2015 - 2021"
   ]
  },
  {
   "cell_type": "code",
   "execution_count": null,
   "metadata": {},
   "outputs": [],
   "source": [
    "# Send survey\n",
    "\n",
    "# Gather data\n",
    "\n",
    "# Wrangle collected data"
   ]
  }
 ],
 "metadata": {
  "interpreter": {
   "hash": "31f2aee4e71d21fbe5cf8b01ff0e069b9275f58929596ceb00d14d90e3e16cd6"
  },
  "kernelspec": {
   "display_name": "uist-diversity",
   "language": "python",
   "name": "uist-diversity"
  },
  "language_info": {
   "codemirror_mode": {
    "name": "ipython",
    "version": 3
   },
   "file_extension": ".py",
   "mimetype": "text/x-python",
   "name": "python",
   "nbconvert_exporter": "python",
   "pygments_lexer": "ipython3",
   "version": "3.9.7"
  }
 },
 "nbformat": 4,
 "nbformat_minor": 2
}
